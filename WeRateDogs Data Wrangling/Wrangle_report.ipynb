{
 "cells": [
  {
   "cell_type": "markdown",
   "id": "3310cbb1",
   "metadata": {},
   "source": [
    "### Wrangle Report:\n",
    "#### Assessing phase:\n",
    "The first step in wragling the data is to import it and start the visual and the programatic assessements, i imported the `'twitter-archive-enhanced.csv'` and i used requests to download the `image-predictions.tsv`, and i imported the `\"tweet_json.txt\"` using `pd.read_json` method, i assigned the data into 3 Dataframes, then i started assessing the data, i found many **Quality issues** in the data which they are:\n",
    "\n",
    "1. ID fields: The ID fields, like tweet_id, in_reply_to_status_id etc. should be objects, not integers or floats because they are not numeric and aren't intended to perform calculations.\n",
    "2. main_df table: The two rating columns need to be float type and not integers.\n",
    "3. Retweets and Favorite Count: retweet_count and favorite_count should be integers, not floats.\n",
    "4. main_df table: The text column contain both tweets and retweets.\n",
    "5. main_df table: NaN values in many columns.\n",
    "6. main_df table: \"None\" in name to dog stage columns.\n",
    "7. main_df table: name column contain error values like 'a', 'by', 'the', 'such'.\n",
    "8. main_df table: timestamp column in a string datatype, it should be in datetime.\n",
    "9. main_df table: source column contain the HTML text, we need only the source.\n",
    "10. tweets_df: we need only tweet_id, retweet and favorite count for each tweet.\n",
    "11. Completeness Issue: 2356 rows in main_df, 2075 in predictions_df and 2354 in tweets_df.\n",
    "\n",
    "and **Tidiness issues**:\n",
    "1. main_df table: dog stage columns \"puppo, doggo...\" need to be in one column.\n",
    "2. main_df table: The text column contain both text and links.\n",
    "3. all the three data sets need to be merged into one dataset and saved.\n",
    "\n",
    "#### Cleaning phase:\n",
    "\n",
    "**Quality issues**: First i made a copy of the dataframes to make my cleaning on them, and i started cleaning the issues one by one in the copy of `main_df`, first i converted the types of the id columns in all the datasets to string, and i converted the rates columns into float types, then i converted the retweet and favorite count in the copy of `twetts_df` from float to integers, and i separated the tweets from the retweets, then i start removing the empty columns and the columns that i don't need, there was \"None\" text in many columns in the datafrmae so i converted them using `np.NaN`, the names column has values like \"a\" and \"by\", i removed them, then i converted the timestamp column to datetime format and i extracted the `'%d-%m-%Y'` format, the source column was in HTML format so i extracted the source text from it and i cleaned it, then i started cleaning the copy of `tweets_df`, i wanted only the id, favorite count and tweet count columns, so i removed all the remaining columns, then i changed some column labels in the tables.\n",
    "\n",
    "**Tidiness issues**: There was 4 separated columns in the `main_df`, i merged them into one column named `stage` column, then i removed the 4 columns, the `text` column in the main_df had links alongside with text, so i removed the links to have only the text in it's column. After that i merged all the 3 dataframes in one dataframe, and i stored the data in `'twitter_archive_master.csv'`.\n",
    "\n",
    "#### Analyzing and Visualizing Phase:\n",
    "In this phase i started analyzing the predictions, i used `describe` method and `mean` and `value_counts` to compare between the predictions, p1, p2 and p3, and to calculate the accuracy of each predictions, to conclude that the second prediction is the best one with 79.32% accuracy rate.\n",
    "Secondly i used Matplotlib to visualize the data, i made a histogram to visualize the distribution of the favorite count and the tweets count, they were both right skewed because the outliers, then i made a pieplot to visualize the categorical data in the `source` column against the favorite count and the retweet count, to conclude that the tweets by the `IPhone` source gets more likes in average than the other sources, and gets more retweets (but close the Web Client retweets), so the IPhone tweets is the most popular source."
   ]
  }
 ],
 "metadata": {
  "kernelspec": {
   "display_name": "Python 3 (ipykernel)",
   "language": "python",
   "name": "python3"
  },
  "language_info": {
   "codemirror_mode": {
    "name": "ipython",
    "version": 3
   },
   "file_extension": ".py",
   "mimetype": "text/x-python",
   "name": "python",
   "nbconvert_exporter": "python",
   "pygments_lexer": "ipython3",
   "version": "3.9.12"
  }
 },
 "nbformat": 4,
 "nbformat_minor": 5
}
